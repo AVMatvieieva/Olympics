{
 "cells": [
  {
   "cell_type": "markdown",
   "metadata": {},
   "source": [
    "# Olympische Athleten-Datenanalyse"
   ]
  },
  {
   "cell_type": "markdown",
   "metadata": {},
   "source": [
    "## Datenvorbereitungsphase"
   ]
  },
  {
   "cell_type": "markdown",
   "metadata": {},
   "source": [
    "### Schritt 1: Daten aus der ursprünglichen CSV-Datei laden"
   ]
  },
  {
   "cell_type": "code",
   "execution_count": 1,
   "metadata": {},
   "outputs": [
    {
     "data": {
      "text/html": [
       "<div>\n",
       "<style scoped>\n",
       "    .dataframe tbody tr th:only-of-type {\n",
       "        vertical-align: middle;\n",
       "    }\n",
       "\n",
       "    .dataframe tbody tr th {\n",
       "        vertical-align: top;\n",
       "    }\n",
       "\n",
       "    .dataframe thead th {\n",
       "        text-align: right;\n",
       "    }\n",
       "</style>\n",
       "<table border=\"1\" class=\"dataframe\">\n",
       "  <thead>\n",
       "    <tr style=\"text-align: right;\">\n",
       "      <th></th>\n",
       "      <th>ID</th>\n",
       "      <th>Name</th>\n",
       "      <th>Sex</th>\n",
       "      <th>Age</th>\n",
       "      <th>Height</th>\n",
       "      <th>Weight</th>\n",
       "      <th>NOC</th>\n",
       "      <th>Year</th>\n",
       "      <th>Sport</th>\n",
       "      <th>Event</th>\n",
       "      <th>Medal</th>\n",
       "      <th>country</th>\n",
       "    </tr>\n",
       "  </thead>\n",
       "  <tbody>\n",
       "    <tr>\n",
       "      <th>0</th>\n",
       "      <td>1</td>\n",
       "      <td>A Dijiang</td>\n",
       "      <td>M</td>\n",
       "      <td>24.0</td>\n",
       "      <td>180.0</td>\n",
       "      <td>80.0</td>\n",
       "      <td>CHN</td>\n",
       "      <td>1992</td>\n",
       "      <td>Basketball</td>\n",
       "      <td>Basketball Men's Basketball</td>\n",
       "      <td>NaN</td>\n",
       "      <td>China</td>\n",
       "    </tr>\n",
       "    <tr>\n",
       "      <th>1</th>\n",
       "      <td>2</td>\n",
       "      <td>A Lamusi</td>\n",
       "      <td>M</td>\n",
       "      <td>23.0</td>\n",
       "      <td>170.0</td>\n",
       "      <td>60.0</td>\n",
       "      <td>CHN</td>\n",
       "      <td>2012</td>\n",
       "      <td>Judo</td>\n",
       "      <td>Judo Men's Extra-Lightweight</td>\n",
       "      <td>NaN</td>\n",
       "      <td>China</td>\n",
       "    </tr>\n",
       "    <tr>\n",
       "      <th>2</th>\n",
       "      <td>602</td>\n",
       "      <td>Abudoureheman</td>\n",
       "      <td>M</td>\n",
       "      <td>22.0</td>\n",
       "      <td>182.0</td>\n",
       "      <td>75.0</td>\n",
       "      <td>CHN</td>\n",
       "      <td>2000</td>\n",
       "      <td>Boxing</td>\n",
       "      <td>Boxing Men's Middleweight</td>\n",
       "      <td>NaN</td>\n",
       "      <td>China</td>\n",
       "    </tr>\n",
       "    <tr>\n",
       "      <th>3</th>\n",
       "      <td>1463</td>\n",
       "      <td>Ai Linuer</td>\n",
       "      <td>M</td>\n",
       "      <td>25.0</td>\n",
       "      <td>160.0</td>\n",
       "      <td>62.0</td>\n",
       "      <td>CHN</td>\n",
       "      <td>2004</td>\n",
       "      <td>Wrestling</td>\n",
       "      <td>Wrestling Men's Lightweight, Greco-Roman</td>\n",
       "      <td>NaN</td>\n",
       "      <td>China</td>\n",
       "    </tr>\n",
       "    <tr>\n",
       "      <th>4</th>\n",
       "      <td>1464</td>\n",
       "      <td>Ai Yanhan</td>\n",
       "      <td>F</td>\n",
       "      <td>14.0</td>\n",
       "      <td>168.0</td>\n",
       "      <td>54.0</td>\n",
       "      <td>CHN</td>\n",
       "      <td>2016</td>\n",
       "      <td>Swimming</td>\n",
       "      <td>Swimming Women's 200 metres Freestyle</td>\n",
       "      <td>NaN</td>\n",
       "      <td>China</td>\n",
       "    </tr>\n",
       "  </tbody>\n",
       "</table>\n",
       "</div>"
      ],
      "text/plain": [
       "     ID           Name Sex   Age  Height  Weight  NOC  Year       Sport  \\\n",
       "0     1      A Dijiang   M  24.0   180.0    80.0  CHN  1992  Basketball   \n",
       "1     2       A Lamusi   M  23.0   170.0    60.0  CHN  2012        Judo   \n",
       "2   602  Abudoureheman   M  22.0   182.0    75.0  CHN  2000      Boxing   \n",
       "3  1463      Ai Linuer   M  25.0   160.0    62.0  CHN  2004   Wrestling   \n",
       "4  1464      Ai Yanhan   F  14.0   168.0    54.0  CHN  2016    Swimming   \n",
       "\n",
       "                                      Event Medal country  \n",
       "0               Basketball Men's Basketball   NaN   China  \n",
       "1              Judo Men's Extra-Lightweight   NaN   China  \n",
       "2                 Boxing Men's Middleweight   NaN   China  \n",
       "3  Wrestling Men's Lightweight, Greco-Roman   NaN   China  \n",
       "4     Swimming Women's 200 metres Freestyle   NaN   China  "
      ]
     },
     "execution_count": 1,
     "metadata": {},
     "output_type": "execute_result"
    }
   ],
   "source": [
    "import pandas as pd\n",
    "\n",
    "data = pd.read_csv('olympics_cleaned_v4.csv')\n",
    "\n",
    "data.head()"
   ]
  },
  {
   "cell_type": "code",
   "execution_count": 2,
   "metadata": {},
   "outputs": [
    {
     "name": "stdout",
     "output_type": "stream",
     "text": [
      "<class 'pandas.core.frame.DataFrame'>\n",
      "RangeIndex: 219085 entries, 0 to 219084\n",
      "Data columns (total 12 columns):\n",
      " #   Column   Non-Null Count   Dtype  \n",
      "---  ------   --------------   -----  \n",
      " 0   ID       219085 non-null  int64  \n",
      " 1   Name     219085 non-null  object \n",
      " 2   Sex      219085 non-null  object \n",
      " 3   Age      210810 non-null  float64\n",
      " 4   Height   170149 non-null  float64\n",
      " 5   Weight   168197 non-null  float64\n",
      " 6   NOC      219085 non-null  object \n",
      " 7   Year     219085 non-null  int64  \n",
      " 8   Sport    219085 non-null  object \n",
      " 9   Event    219085 non-null  object \n",
      " 10  Medal    33610 non-null   object \n",
      " 11  country  219064 non-null  object \n",
      "dtypes: float64(3), int64(2), object(7)\n",
      "memory usage: 20.1+ MB\n"
     ]
    }
   ],
   "source": [
    "data.info()"
   ]
  },
  {
   "cell_type": "markdown",
   "metadata": {},
   "source": [
    "Nachdem wir die 'info'-Methode verwendet haben, sehen wir, dass in einigen Spalten Werte fehlen."
   ]
  },
  {
   "cell_type": "markdown",
   "metadata": {},
   "source": [
    "### Schritt 2: Daten in Tabellen aufteilen\n",
    "\n",
    "Ursprünglich wir haben eine große Tabelle. Das Arbeiten mit einer so großen Tabelle ist ineffizient und speicherintensiv. \n",
    "Um Daten effizient und korrekt zu speichern, soll man Daten auf die kleine normalizirunge Tabellen aufteilen. Ich habe beschlossen, die folgenden Tabellen zu erstellen:\n",
    "\n",
    "- athletes.csv\n",
    "- athlets_events.csv\n",
    "- countries.csv\n",
    "- events.csv\n",
    "\n",
    "Solche Aufeilung darstellt logische Struktur der Datenbank. Die Daten sinnvoll aufgeteilt werden und jede Entität nur die relevanten Informationen enthält."
   ]
  },
  {
   "cell_type": "markdown",
   "metadata": {},
   "source": [
    "Zuerst bereinigen wir die Daten und konvertieren sie in den gewünschten Typ"
   ]
  },
  {
   "cell_type": "code",
   "execution_count": 3,
   "metadata": {},
   "outputs": [],
   "source": [
    "data = data.rename(columns={'ID': 'ID_athlet'})# Benennen Sie die Spalte „ID“ in „ID_athlet“ um\n",
    "\n",
    "#Ersetzt alle leeren Zeichenfolgen und Zeichenfolgen, die Leerzeichen enthalten, durch NaN.\n",
    "data[\"Height\"] = data['Height'].replace(['', ' '], pd.NA) \n",
    "data[\"Weight\"] = data[\"Weight\"].replace(['', ' '], pd.NA)\n",
    "data['Age'] = data['Age'].replace(['', ' '], pd.NA)\n",
    "data['country'] = data['country'].replace(['', ' '], pd.NA)\n",
    "\n",
    "#Bearbeiten wir zunächst die Datentypen, sodass sie besser geeignet sind\n",
    "data['ID_athlet'] = data['ID_athlet'].astype('int32')  \n",
    "data['Year'] = data['Year'].astype('int32')  \n",
    "data['Sex'] = data['Sex'].astype('object')  \n",
    "data['NOC'] = data['NOC'].astype('object')  \n",
    "data['Sport'] = data['Sport'].astype('object')  \n",
    "data['Event'] = data['Event'].astype('object')  \n",
    "data['Medal'] = data['Medal'].astype('object')  \n",
    "data['country'] = data['country'].astype('object')  \n",
    "data['Age'] = data['Age'].astype('float32')\n",
    "data['Height'] = pd.to_numeric(data['Height'], errors='coerce')#Konvert Werte in ein numerisches Format\n",
    "data['Weight'] = pd.to_numeric(data['Weight'], errors='coerce')\n",
    "data['Age'] = pd.to_numeric(data['Age'], errors='coerce')"
   ]
  },
  {
   "cell_type": "markdown",
   "metadata": {},
   "source": [
    "Erstellen einen Datenrahmen für jede einzelne Entität"
   ]
  },
  {
   "cell_type": "code",
   "execution_count": 4,
   "metadata": {},
   "outputs": [],
   "source": [
    "# 1 Table: athlets\n",
    "athletes = data[['ID_athlet', 'Name', 'Sex', 'Height', 'Weight']].drop_duplicates() \n",
    "\n",
    "#2 Table: countries\n",
    "countries = data[['NOC', 'country']].drop_duplicates() \n",
    "# 3 Table: events \n",
    "events = data[['Sport', 'Event']].drop_duplicates().reset_index() \n",
    "events.rename(columns={'index': 'ID_event'}, inplace=True) \n",
    "\n",
    "# assign index\n",
    "events['ID_event'] = events['ID_event'].astype('int32') \n",
    "\n",
    "# 4 Relation table: athletes_events\n",
    "athletes_events = data[['ID_athlet', 'Event', 'Year', 'Medal', 'Age', 'NOC']].drop_duplicates() "
   ]
  },
  {
   "cell_type": "markdown",
   "metadata": {},
   "source": [
    "Wenn wir 'data' geteilt haben, haben wir in der 'athletes_events' eine 'event' Spalte, die wir in 'ID_event' ändern müssen."
   ]
  },
  {
   "cell_type": "code",
   "execution_count": 5,
   "metadata": {},
   "outputs": [],
   "source": [
    "# athletes_events und events verbinden, um ID_event zu erhalten\n",
    "athletes_events_with_ids = athletes_events.merge(events, on='Event', how='left') \n",
    "\n",
    "# Lassen wir nur benötigte Spalten\n",
    "athletes_events_final = athletes_events_with_ids[['ID_athlet', 'ID_event', 'Year', 'Medal', 'Age', 'NOC']]\n"
   ]
  },
  {
   "cell_type": "markdown",
   "metadata": {},
   "source": [
    "### Schritt 3: Tabellen in separaten CSV-Dateien speichern"
   ]
  },
  {
   "cell_type": "code",
   "execution_count": 6,
   "metadata": {},
   "outputs": [],
   "source": [
    "athletes.to_csv('athletes.csv', sep=';',index=False)\n",
    "countries.to_csv('countries.csv', sep=';', index=False)\n",
    "events.to_csv('events.csv', sep=';', index=False)\n",
    "athletes_events_final.to_csv('athletes_events.csv', sep=';', index=False)"
   ]
  }
 ],
 "metadata": {
  "kernelspec": {
   "display_name": "Python 3",
   "language": "python",
   "name": "python3"
  },
  "language_info": {
   "codemirror_mode": {
    "name": "ipython",
    "version": 3
   },
   "file_extension": ".py",
   "mimetype": "text/x-python",
   "name": "python",
   "nbconvert_exporter": "python",
   "pygments_lexer": "ipython3",
   "version": "3.10.11"
  }
 },
 "nbformat": 4,
 "nbformat_minor": 2
}
